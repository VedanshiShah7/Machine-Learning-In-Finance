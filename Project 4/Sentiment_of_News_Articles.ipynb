{
  "cells": [
    {
      "cell_type": "code",
      "execution_count": 1,
      "metadata": {
        "colab": {
          "base_uri": "https://localhost:8080/"
        },
        "id": "7LFRE1NcItF1",
        "outputId": "e06b5526-c580-45ac-f591-f36dd898624e"
      },
      "outputs": [
        {
          "name": "stderr",
          "output_type": "stream",
          "text": [
            "[nltk_data] Downloading package vader_lexicon to /root/nltk_data...\n"
          ]
        }
      ],
      "source": [
        "# Import libraries\n",
        "from urllib.request import urlopen, Request\n",
        "from bs4 import BeautifulSoup\n",
        "import os\n",
        "import pandas as pd\n",
        "import matplotlib.pyplot as plt\n",
        "%matplotlib inline\n",
        "# NLTK VADER for sentiment analysis\n",
        "import nltk\n",
        "nltk.downloader.download('vader_lexicon')\n",
        "from nltk.sentiment.vader import SentimentIntensityAnalyzer"
      ]
    },
    {
      "cell_type": "code",
      "execution_count": 2,
      "metadata": {
        "id": "6k0Bt7_wIw-b"
      },
      "outputs": [],
      "source": [
        "finwiz_url = 'https://finviz.com/quote.ashx?t='\n",
        "news_tables = {}\n",
        "tickers = ['AMZN', 'TSLA', 'GOOG']\n",
        "for ticker in tickers:\n",
        "    url = finwiz_url + ticker\n",
        "    req = Request(url=url,headers={'User-Agent': 'Mozilla/5.0 (Windows NT 6.1; WOW64; rv:20.0) Gecko/20100101 Firefox/20.0'}) \n",
        "    response = urlopen(req)    \n",
        "    # Read the contents of the file into 'html'\n",
        "    html = BeautifulSoup(response)\n",
        "    # Find 'news-table' in the Soup and load it into 'news_table'\n",
        "    news_table = html.find(id='news-table')\n",
        "    # Add the table to our dictionary\n",
        "    news_tables[ticker] = news_table"
      ]
    },
    {
      "cell_type": "code",
      "execution_count": 5,
      "metadata": {
        "colab": {
          "base_uri": "https://localhost:8080/"
        },
        "id": "CAqB5sCZJDfC",
        "outputId": "d98f2972-d9c9-478a-ee61-0f2ee158c96d"
      },
      "outputs": [
        {
          "name": "stdout",
          "output_type": "stream",
          "text": [
            "Nvidia Revolutionizes the Cloud -- What Nvidia Investors Should Know\n",
            "Mar-21-23 05:56PM\n",
            "Best Stock to Buy: Amazon vs. Salesforce\n",
            "04:44PM\n",
            "Big Tech companies could see even more layoffs ahead: Analyst\n",
            "04:24PM\n",
            "Why Rivian, Ford, and General Motors Jumped Today\n",
            "04:15PM\n"
          ]
        }
      ],
      "source": [
        "# Read one single day of headlines for ‘AMZN’ \n",
        "amzn = news_tables['AMZN']\n",
        "# Get all the table rows tagged in HTML with <tr> into ‘amzn_tr’\n",
        "amzn_tr = amzn.findAll('tr')\n",
        "for i, table_row in enumerate(amzn_tr):\n",
        "  # Read the text of the element ‘a’ into ‘link_text’\n",
        "  a_text = table_row.a.text\n",
        "  # Read the text of the element ‘td’ into ‘data_text’\n",
        "  td_text = table_row.td.text\n",
        "  # Print the contents of ‘link_text’ and ‘data_text’ \n",
        "  print(a_text)\n",
        "  print(td_text)\n",
        "  # Exit after printing 4 rows of data\n",
        "  if i == 3:\n",
        "    break"
      ]
    },
    {
      "cell_type": "code",
      "execution_count": 14,
      "metadata": {
        "id": "9-lq-VZSJpOm"
      },
      "outputs": [],
      "source": [
        "parsed_news = []\n",
        "# Iterate through the news\n",
        "for file_name, news_table in news_tables.items():\n",
        "    # Iterate through all tr tags in 'news_table'\n",
        "    for x in news_table.findAll('tr'):\n",
        "        # read the text from each tr tag into text\n",
        "        # get text from a only\n",
        "        text = x.get_text() \n",
        "        # splite text in the td tag into a list \n",
        "        date_scrape = x.td.text.split()\n",
        "        # if the length of 'date_scrape' is 1, load 'time' as the only element\n",
        "        if len(date_scrape) == 1:\n",
        "            time = date_scrape[0]\n",
        "            \n",
        "        # else load 'date' as the 1st element and 'time' as the second    \n",
        "        else:\n",
        "            date = date_scrape[0]\n",
        "            time = date_scrape[1]\n",
        "        # Extract the ticker from the file name, get the string up to the 1st '_'  \n",
        "            ticker = file_name.split('_')[0]\n",
        "        \n",
        "        # Append ticker, date, time and headline as a list to the 'parsed_news' list\n",
        "            parsed_news.append([ticker, date, time, text])\n",
        "      "
      ]
    },
    {
      "cell_type": "code",
      "execution_count": 15,
      "metadata": {
        "colab": {
          "base_uri": "https://localhost:8080/"
        },
        "id": "3f1mGz_0Kp--",
        "outputId": "a1a74270-2445-4cd5-c86e-9ea9d2f729f3"
      },
      "outputs": [
        {
          "data": {
            "text/plain": [
              "[['AMZN',\n",
              "  'Mar-21-23',\n",
              "  '05:56PM',\n",
              "  'Mar-21-23 05:56PMNvidia Revolutionizes the Cloud -- What Nvidia Investors Should Know Motley Fool'],\n",
              " ['AMZN',\n",
              "  'Mar-20-23',\n",
              "  '07:50PM',\n",
              "  'Mar-20-23 07:50PMAmazon to Cut 9,000 More Jobs After Earlier Layoffs The Wall Street Journal'],\n",
              " ['AMZN',\n",
              "  'Mar-19-23',\n",
              "  '08:00AM',\n",
              "  'Mar-19-23 08:00AM3 Tech Stocks That Can Weather a Recession and Thrive on the Other Side Motley Fool'],\n",
              " ['AMZN',\n",
              "  'Mar-18-23',\n",
              "  '06:15PM',\n",
              "  'Mar-18-23 06:15PMGraham Stephan Stock Portfolio: 10 Stock Picks Insider Monkey'],\n",
              " ['AMZN',\n",
              "  'Mar-17-23',\n",
              "  '06:49PM',\n",
              "  'Mar-17-23 06:49PMWeekly Roundup TheStreet.com']]"
            ]
          },
          "execution_count": 15,
          "metadata": {},
          "output_type": "execute_result"
        }
      ],
      "source": [
        "parsed_news[:5] # print first 5 rows of news"
      ]
    },
    {
      "cell_type": "code",
      "execution_count": 17,
      "metadata": {
        "colab": {
          "base_uri": "https://localhost:8080/"
        },
        "id": "9BF6Zqt9LRz7",
        "outputId": "f7b79121-0a76-4b2f-c46c-19f8fd4fcbc7"
      },
      "outputs": [
        {
          "data": {
            "text/plain": [
              "[['AMZN',\n",
              "  'Mar-21-23',\n",
              "  '05:56PM',\n",
              "  'Mar-21-23 05:56PMNvidia Revolutionizes the Cloud -- What Nvidia Investors Should Know Motley Fool'],\n",
              " ['AMZN',\n",
              "  'Mar-20-23',\n",
              "  '07:50PM',\n",
              "  'Mar-20-23 07:50PMAmazon to Cut 9,000 More Jobs After Earlier Layoffs The Wall Street Journal'],\n",
              " ['AMZN',\n",
              "  'Mar-19-23',\n",
              "  '08:00AM',\n",
              "  'Mar-19-23 08:00AM3 Tech Stocks That Can Weather a Recession and Thrive on the Other Side Motley Fool'],\n",
              " ['AMZN',\n",
              "  'Mar-18-23',\n",
              "  '06:15PM',\n",
              "  'Mar-18-23 06:15PMGraham Stephan Stock Portfolio: 10 Stock Picks Insider Monkey'],\n",
              " ['AMZN',\n",
              "  'Mar-17-23',\n",
              "  '06:49PM',\n",
              "  'Mar-17-23 06:49PMWeekly Roundup TheStreet.com'],\n",
              " ['AMZN',\n",
              "  'Mar-16-23',\n",
              "  '06:01PM',\n",
              "  'Mar-16-23 06:01PMWhy Amazon Stock Jumped Today Motley Fool'],\n",
              " ['AMZN',\n",
              "  'Mar-15-23',\n",
              "  '03:29PM',\n",
              "  'Mar-15-23 03:29PMHow Much Do Memberships Cost at Costco, Sams Club and Other Warehouse Stores? GOBankingRates'],\n",
              " ['AMZN',\n",
              "  'Mar-14-23',\n",
              "  '06:33PM',\n",
              "  'Mar-14-23 06:33PMThe 10 Best Stocks to Buy in March 2023 Motley Fool'],\n",
              " ['TSLA',\n",
              "  'Mar-21-23',\n",
              "  '04:18PM',\n",
              "  'Mar-21-23 04:18PMThese Stocks Are Moving the Most Today: Tesla, First Republic, Coinbase, Harley, and More Stock Market Movers Barrons.com +7.82%'],\n",
              " ['TSLA',\n",
              "  'Mar-20-23',\n",
              "  '06:50PM',\n",
              "  'Mar-20-23 06:50PMMoodys Loves Teslas Finances. It Finally Upped Its Debt from Junk. Barrons.com']]"
            ]
          },
          "execution_count": 17,
          "metadata": {},
          "output_type": "execute_result"
        }
      ],
      "source": [
        "parsed_news[:10]"
      ]
    },
    {
      "cell_type": "code",
      "execution_count": 16,
      "metadata": {
        "colab": {
          "base_uri": "https://localhost:8080/",
          "height": 206
        },
        "id": "dmB7OkK8K27y",
        "outputId": "76c9e593-69d9-4ad2-d8a0-f89deb975498"
      },
      "outputs": [
        {
          "data": {
            "text/html": [
              "\n",
              "  <div id=\"df-e7c1c6b7-ce38-4ef9-9a7c-86a5257a96ed\">\n",
              "    <div class=\"colab-df-container\">\n",
              "      <div>\n",
              "<style scoped>\n",
              "    .dataframe tbody tr th:only-of-type {\n",
              "        vertical-align: middle;\n",
              "    }\n",
              "\n",
              "    .dataframe tbody tr th {\n",
              "        vertical-align: top;\n",
              "    }\n",
              "\n",
              "    .dataframe thead th {\n",
              "        text-align: right;\n",
              "    }\n",
              "</style>\n",
              "<table border=\"1\" class=\"dataframe\">\n",
              "  <thead>\n",
              "    <tr style=\"text-align: right;\">\n",
              "      <th></th>\n",
              "      <th>ticker</th>\n",
              "      <th>date</th>\n",
              "      <th>time</th>\n",
              "      <th>headline</th>\n",
              "      <th>neg</th>\n",
              "      <th>neu</th>\n",
              "      <th>pos</th>\n",
              "      <th>compound</th>\n",
              "    </tr>\n",
              "  </thead>\n",
              "  <tbody>\n",
              "    <tr>\n",
              "      <th>0</th>\n",
              "      <td>AMZN</td>\n",
              "      <td>2023-03-21</td>\n",
              "      <td>05:56PM</td>\n",
              "      <td>Mar-21-23 05:56PMNvidia Revolutionizes the Clo...</td>\n",
              "      <td>0.195</td>\n",
              "      <td>0.805</td>\n",
              "      <td>0.0</td>\n",
              "      <td>-0.4404</td>\n",
              "    </tr>\n",
              "    <tr>\n",
              "      <th>1</th>\n",
              "      <td>AMZN</td>\n",
              "      <td>2023-03-20</td>\n",
              "      <td>07:50PM</td>\n",
              "      <td>Mar-20-23 07:50PMAmazon to Cut 9,000 More Jobs...</td>\n",
              "      <td>0.139</td>\n",
              "      <td>0.861</td>\n",
              "      <td>0.0</td>\n",
              "      <td>-0.2732</td>\n",
              "    </tr>\n",
              "    <tr>\n",
              "      <th>2</th>\n",
              "      <td>AMZN</td>\n",
              "      <td>2023-03-19</td>\n",
              "      <td>08:00AM</td>\n",
              "      <td>Mar-19-23 08:00AM3 Tech Stocks That Can Weathe...</td>\n",
              "      <td>0.289</td>\n",
              "      <td>0.711</td>\n",
              "      <td>0.0</td>\n",
              "      <td>-0.6908</td>\n",
              "    </tr>\n",
              "    <tr>\n",
              "      <th>3</th>\n",
              "      <td>AMZN</td>\n",
              "      <td>2023-03-18</td>\n",
              "      <td>06:15PM</td>\n",
              "      <td>Mar-18-23 06:15PMGraham Stephan Stock Portfoli...</td>\n",
              "      <td>0.000</td>\n",
              "      <td>1.000</td>\n",
              "      <td>0.0</td>\n",
              "      <td>0.0000</td>\n",
              "    </tr>\n",
              "    <tr>\n",
              "      <th>4</th>\n",
              "      <td>AMZN</td>\n",
              "      <td>2023-03-17</td>\n",
              "      <td>06:49PM</td>\n",
              "      <td>Mar-17-23 06:49PMWeekly Roundup TheStreet.com</td>\n",
              "      <td>0.000</td>\n",
              "      <td>1.000</td>\n",
              "      <td>0.0</td>\n",
              "      <td>0.0000</td>\n",
              "    </tr>\n",
              "  </tbody>\n",
              "</table>\n",
              "</div>\n",
              "      <button class=\"colab-df-convert\" onclick=\"convertToInteractive('df-e7c1c6b7-ce38-4ef9-9a7c-86a5257a96ed')\"\n",
              "              title=\"Convert this dataframe to an interactive table.\"\n",
              "              style=\"display:none;\">\n",
              "        \n",
              "  <svg xmlns=\"http://www.w3.org/2000/svg\" height=\"24px\"viewBox=\"0 0 24 24\"\n",
              "       width=\"24px\">\n",
              "    <path d=\"M0 0h24v24H0V0z\" fill=\"none\"/>\n",
              "    <path d=\"M18.56 5.44l.94 2.06.94-2.06 2.06-.94-2.06-.94-.94-2.06-.94 2.06-2.06.94zm-11 1L8.5 8.5l.94-2.06 2.06-.94-2.06-.94L8.5 2.5l-.94 2.06-2.06.94zm10 10l.94 2.06.94-2.06 2.06-.94-2.06-.94-.94-2.06-.94 2.06-2.06.94z\"/><path d=\"M17.41 7.96l-1.37-1.37c-.4-.4-.92-.59-1.43-.59-.52 0-1.04.2-1.43.59L10.3 9.45l-7.72 7.72c-.78.78-.78 2.05 0 2.83L4 21.41c.39.39.9.59 1.41.59.51 0 1.02-.2 1.41-.59l7.78-7.78 2.81-2.81c.8-.78.8-2.07 0-2.86zM5.41 20L4 18.59l7.72-7.72 1.47 1.35L5.41 20z\"/>\n",
              "  </svg>\n",
              "      </button>\n",
              "      \n",
              "  <style>\n",
              "    .colab-df-container {\n",
              "      display:flex;\n",
              "      flex-wrap:wrap;\n",
              "      gap: 12px;\n",
              "    }\n",
              "\n",
              "    .colab-df-convert {\n",
              "      background-color: #E8F0FE;\n",
              "      border: none;\n",
              "      border-radius: 50%;\n",
              "      cursor: pointer;\n",
              "      display: none;\n",
              "      fill: #1967D2;\n",
              "      height: 32px;\n",
              "      padding: 0 0 0 0;\n",
              "      width: 32px;\n",
              "    }\n",
              "\n",
              "    .colab-df-convert:hover {\n",
              "      background-color: #E2EBFA;\n",
              "      box-shadow: 0px 1px 2px rgba(60, 64, 67, 0.3), 0px 1px 3px 1px rgba(60, 64, 67, 0.15);\n",
              "      fill: #174EA6;\n",
              "    }\n",
              "\n",
              "    [theme=dark] .colab-df-convert {\n",
              "      background-color: #3B4455;\n",
              "      fill: #D2E3FC;\n",
              "    }\n",
              "\n",
              "    [theme=dark] .colab-df-convert:hover {\n",
              "      background-color: #434B5C;\n",
              "      box-shadow: 0px 1px 3px 1px rgba(0, 0, 0, 0.15);\n",
              "      filter: drop-shadow(0px 1px 2px rgba(0, 0, 0, 0.3));\n",
              "      fill: #FFFFFF;\n",
              "    }\n",
              "  </style>\n",
              "\n",
              "      <script>\n",
              "        const buttonEl =\n",
              "          document.querySelector('#df-e7c1c6b7-ce38-4ef9-9a7c-86a5257a96ed button.colab-df-convert');\n",
              "        buttonEl.style.display =\n",
              "          google.colab.kernel.accessAllowed ? 'block' : 'none';\n",
              "\n",
              "        async function convertToInteractive(key) {\n",
              "          const element = document.querySelector('#df-e7c1c6b7-ce38-4ef9-9a7c-86a5257a96ed');\n",
              "          const dataTable =\n",
              "            await google.colab.kernel.invokeFunction('convertToInteractive',\n",
              "                                                     [key], {});\n",
              "          if (!dataTable) return;\n",
              "\n",
              "          const docLinkHtml = 'Like what you see? Visit the ' +\n",
              "            '<a target=\"_blank\" href=https://colab.research.google.com/notebooks/data_table.ipynb>data table notebook</a>'\n",
              "            + ' to learn more about interactive tables.';\n",
              "          element.innerHTML = '';\n",
              "          dataTable['output_type'] = 'display_data';\n",
              "          await google.colab.output.renderOutput(dataTable, element);\n",
              "          const docLink = document.createElement('div');\n",
              "          docLink.innerHTML = docLinkHtml;\n",
              "          element.appendChild(docLink);\n",
              "        }\n",
              "      </script>\n",
              "    </div>\n",
              "  </div>\n",
              "  "
            ],
            "text/plain": [
              "  ticker        date     time  \\\n",
              "0   AMZN  2023-03-21  05:56PM   \n",
              "1   AMZN  2023-03-20  07:50PM   \n",
              "2   AMZN  2023-03-19  08:00AM   \n",
              "3   AMZN  2023-03-18  06:15PM   \n",
              "4   AMZN  2023-03-17  06:49PM   \n",
              "\n",
              "                                            headline    neg    neu  pos  \\\n",
              "0  Mar-21-23 05:56PMNvidia Revolutionizes the Clo...  0.195  0.805  0.0   \n",
              "1  Mar-20-23 07:50PMAmazon to Cut 9,000 More Jobs...  0.139  0.861  0.0   \n",
              "2  Mar-19-23 08:00AM3 Tech Stocks That Can Weathe...  0.289  0.711  0.0   \n",
              "3  Mar-18-23 06:15PMGraham Stephan Stock Portfoli...  0.000  1.000  0.0   \n",
              "4      Mar-17-23 06:49PMWeekly Roundup TheStreet.com  0.000  1.000  0.0   \n",
              "\n",
              "   compound  \n",
              "0   -0.4404  \n",
              "1   -0.2732  \n",
              "2   -0.6908  \n",
              "3    0.0000  \n",
              "4    0.0000  "
            ]
          },
          "execution_count": 16,
          "metadata": {},
          "output_type": "execute_result"
        }
      ],
      "source": [
        "# Instantiate the sentiment intensity analyzer\n",
        "vader = SentimentIntensityAnalyzer()\n",
        "# Set column names\n",
        "columns = ['ticker', 'date', 'time', 'headline']\n",
        "# Convert the parsed_news list into a DataFrame called 'parsed_and_scored_news'\n",
        "parsed_and_scored_news = pd.DataFrame(parsed_news, columns=columns)\n",
        "# Iterate through the headlines and get the polarity scores using vader\n",
        "scores = parsed_and_scored_news['headline'].apply(vader.polarity_scores).tolist()\n",
        "# Convert the 'scores' list of dicts into a DataFrame\n",
        "scores_df = pd.DataFrame(scores)\n",
        "# Join the DataFrames of the news and the list of dicts\n",
        "parsed_and_scored_news = parsed_and_scored_news.join(scores_df, rsuffix='_right')\n",
        "# Convert the date column from string to datetime\n",
        "parsed_and_scored_news['date'] = pd.to_datetime(parsed_and_scored_news.date).dt.date\n",
        "parsed_and_scored_news.head()"
      ]
    }
  ],
  "metadata": {
    "colab": {
      "provenance": []
    },
    "kernelspec": {
      "display_name": "Python 3",
      "name": "python3"
    },
    "language_info": {
      "name": "python",
      "version": "3.8.5"
    }
  },
  "nbformat": 4,
  "nbformat_minor": 0
}
